{
 "cells": [
  {
   "cell_type": "markdown",
   "metadata": {},
   "source": [
    "# Python vs. Numpy vs. TensorFlow"
   ]
  },
  {
   "cell_type": "markdown",
   "metadata": {},
   "source": [
    "This notebook introduces some of the concepts in numerical computing in Python. More specifically, it will go through a very simple example of reducing table sums, first with vanilla Python loops, and then with Numpy and TensorFlow, and compare the performance of those two together.\n",
    "\n",
    "The goal is to get a sense of why we use libraries such as Numpy/TensorFlow, and understand how the basics of how those are implemented."
   ]
  },
  {
   "cell_type": "markdown",
   "metadata": {},
   "source": [
    "## Setup\n",
    "Imports, constant, and some other setup."
   ]
  },
  {
   "cell_type": "code",
   "execution_count": null,
   "metadata": {},
   "outputs": [],
   "source": [
    "%load_ext autoreload\n",
    "%autoreload 2\n",
    "\n",
    "from functools import partial\n",
    "import timeit\n",
    "from benchmarks import (\n",
    "    TableTestNp, \n",
    "    TableTestPy,\n",
    "    TableTestTf,\n",
    "    MatPowTestNp,\n",
    "    MatPowTestTf,\n",
    "    nn_data_generator,\n",
    ")\n",
    "from visualization import plot_with_legend\n",
    "\n",
    "import tensorflow as tf\n",
    "import numpy as np\n",
    "\n",
    "%matplotlib inline\n",
    "\n",
    "import matplotlib\n",
    "import matplotlib.pyplot as plt\n",
    "plt.rcParams[\"figure.figsize\"] = (20,5)\n",
    "\n",
    "DEFAULT_DTYPE = np.float64\n",
    "TIMEIT_RUNS = 10\n",
    "TIMEIT_REPEATS = 10\n",
    "TEST_SIZES = [10 * 2**x for x in range(1, 8)]"
   ]
  },
  {
   "cell_type": "markdown",
   "metadata": {},
   "source": [
    "## Python vs. Numpy"
   ]
  },
  {
   "cell_type": "markdown",
   "metadata": {},
   "source": [
    "Let's begin by comparing vanilla Python with Numpy.\n",
    "\n",
    "Suppose you're building the tables for category-category analyses as shown in this [Statwing demo](https://www.statwing.com/demos/survey#workspaces/127054), and you have been given the **body** of the table as counts."
   ]
  },
  {
   "cell_type": "markdown",
   "metadata": {},
   "source": [
    "|                                                Career / Job Satisfaction                                                    |\n",
    "|------------------------|-------------|---------------------|-----------------|-------------------------|---------------------|\n",
    "| Purchasing Budget      | Love my job | Enjoy going to work | It's a paycheck | I'm not happy in my job | Hate my job | Total |\n",
    "| (< \\$1,000)            |          20 |                 35  |              11 |                     12  |           4 |    82 |\n",
    "| (\\$1,001 - \\$5,000)    |          33 |                 39  |              15 |                      4  |           2 |    93 |\n",
    "| (\\$5,001 - \\$25,000)   |          20 |                 22  |               9 |                      3  |           0 |    54 |\n",
    "| (\\$25,001 - \\$100,000) |          11 |                 11  |               3 |                      1  |           0 |    26 |\n",
    "| (> \\$100,000)          |          16 |                 10  |               6 |                      0  |           1 |    33 |\n",
    "| (Don't know)           |          66 |                 195 |              54 |                     24  |           7 |   346 |\n",
    "| Total                  |         166 |                 312 |              98 |                      44 |          14 |   634 |\n"
   ]
  },
  {
   "cell_type": "code",
   "execution_count": null,
   "metadata": {},
   "outputs": [],
   "source": [
    "table = [\n",
    "  [20, 35, 11, 12, 4],\n",
    "  [33, 39, 15, 4, 2,],\n",
    "  [20, 22, 9, 3, 0],\n",
    "  [11, 11, 3, 1, 0],\n",
    "  [16, 10, 6, 0, 1],\n",
    "  [66, 195, 54, 24, 7],\n",
    "]"
   ]
  },
  {
   "cell_type": "markdown",
   "metadata": {},
   "source": [
    "From this table, we want to compute the data needed for different table views (\"Count\", \"All %\", \"Row %\", \"Col %\").\n",
    "\n",
    "Let's start with the \"Count\" view. That means that the only things we have to compute are the row, col, and total sums.\n",
    "\n",
    "First, consider a case where you would have to do this with vanilla python for-loops:"
   ]
  },
  {
   "cell_type": "code",
   "execution_count": null,
   "metadata": {},
   "outputs": [],
   "source": [
    "def table_sums_py(table):\n",
    "    num_rows, num_cols = len(table), len(table[0])\n",
    "\n",
    "    row_sums = [0 for _ in range(num_rows)]\n",
    "    col_sums = [0 for _ in range(num_cols)]\n",
    "    total_sum = 0\n",
    "\n",
    "    for i, row in enumerate(table):\n",
    "        for j, cell in enumerate(row):\n",
    "            # TODO: implement this\n",
    "            col_sums[j] += table[i][j]\n",
    "            row_sums[i] += table[i][j]\n",
    "            total_sum += table[i][j]\n",
    "\n",
    "    return row_sums, col_sums, total_sum\n",
    "\n",
    "row_sums, col_sums, total_sum = table_sums_py(table)\n",
    "\n",
    "assert(row_sums == [82, 93, 54, 26, 33, 346])\n",
    "assert(col_sums == [166, 312, 98, 44, 14])\n",
    "assert(total_sum == 634)\n",
    "\n",
    "print(\"row_sums: \", row_sums)\n",
    "print(\"col_sums: \", col_sums)\n",
    "print(\"total_sum: \", total_sum)"
   ]
  },
  {
   "cell_type": "markdown",
   "metadata": {},
   "source": [
    "That was simple. Now, let's see how the same thing is done with numpy."
   ]
  },
  {
   "cell_type": "markdown",
   "metadata": {},
   "source": [
    "# Numpy\n",
    "[Numpy](http://www.numpy.org/) is one of the fundamental libraries for scientific computing in Python. Numpy provides high-performance multidimensional array/matrix/tensor objects, and a set of tools and functions for working with these arrays.\n",
    "\n",
    "#### Why?\n",
    "The main benefits of numpy are **speed** and **convenience** for numerical/scientific computing in Python."
   ]
  },
  {
   "cell_type": "code",
   "execution_count": null,
   "metadata": {},
   "outputs": [],
   "source": [
    "# Create an numpy array (np.ndarray) object from the table\n",
    "table_np = np.array(table)\n",
    "\n",
    "# Sanity check\n",
    "assert(np.all(table == table_np))\n",
    "\n",
    "print(\"table: \\n\", table_np)\n",
    "print(\"shape:\", table_np.shape)\n",
    "print(\"type:\", type(table_np))"
   ]
  },
  {
   "cell_type": "markdown",
   "metadata": {},
   "source": [
    "And then calculate the sums"
   ]
  },
  {
   "cell_type": "code",
   "execution_count": null,
   "metadata": {},
   "outputs": [],
   "source": [
    "def table_sums_np(table_np):\n",
    "    row_sums_np = np.sum(table_np, axis=1)\n",
    "    col_sums_np = np.sum(table_np, axis=0)\n",
    "    total_sum_np = np.sum(table_np)\n",
    "    \n",
    "    return row_sums_np, col_sums_np, total_sum_np\n",
    "\n",
    "row_sums_np, col_sums_np, total_sum_np = table_sums_np(table_np)\n",
    "    \n",
    "assert(np.all(row_sums_np == row_sums))\n",
    "assert(np.all(col_sums_np == col_sums))\n",
    "assert(total_sum_np == total_sum)\n",
    "\n",
    "print(\"row_sums: \", row_sums_np)\n",
    "print(\"col_sums: \", col_sums_np)\n",
    "print(\"total_sum: \", total_sum_np)"
   ]
  },
  {
   "cell_type": "markdown",
   "metadata": {},
   "source": [
    "Numpy allowed us to do each of the three calculations with `np.sum` function instead of having to write double for-loop as in vanilla python. One of the benefit's of numpy is that it implements many of the functions often needed in numerical computing.\n",
    "\n",
    "But the reason we use numpy is actually its performance. Numpy datastructures are implemented on C-level through python's C-api, which makes them extremely fast compared to vanilla python for-loops."
   ]
  },
  {
   "cell_type": "markdown",
   "metadata": {},
   "source": [
    "Let's benchmark the two implementations. `TableTestNp` and `TableTestPy` classes are simple python `timeit.Timer` wrappers for testing the performance the functions with different table sizes."
   ]
  },
  {
   "cell_type": "code",
   "execution_count": null,
   "metadata": {},
   "outputs": [],
   "source": [
    "table_sizes = [10 * 2**x for x in range(1, 7)]\n",
    "timer_np = TableTestNp(timeit_fn=table_sums_np)\n",
    "times_np = timer_np.repeat(verbose=True, table_sizes=table_sizes)\n",
    "\n",
    "timer_py = TableTestPy(timeit_fn=table_sums_py)\n",
    "times_py = timer_py.repeat(verbose=True, table_sizes=table_sizes)"
   ]
  },
  {
   "cell_type": "code",
   "execution_count": null,
   "metadata": {},
   "outputs": [],
   "source": [
    "results = {\n",
    "    \"python\": times_py,\n",
    "    \"numpy\": times_np\n",
    "}"
   ]
  },
  {
   "cell_type": "code",
   "execution_count": null,
   "metadata": {},
   "outputs": [],
   "source": [
    "plot_with_legend([results], figure_idx=1, show=True)\n",
    "plot_with_legend([{\"numpy\": results[\"numpy\"]}], figure_idx=1, show=True)"
   ]
  },
  {
   "cell_type": "markdown",
   "metadata": {},
   "source": [
    "## Why is numpy faster?\n",
    "\n",
    "* *Numpy provides high-performance multidimensional array/matrix/tensor objects*\n",
    "  1. Strict typing for the arrays\n",
    "    * Efficiency/performance vs. flexibility\n",
    "  2. The array operations are run on C-level\n",
    "  3. (1) and (2) enable [vectorization](https://en.wikipedia.org/wiki/Vector_processor), [pipelining](https://en.wikipedia.org/wiki/Instruction_pipelining) etc."
   ]
  },
  {
   "cell_type": "markdown",
   "metadata": {},
   "source": [
    "# TensorFlow\n",
    "So far we have talked about vanilla Python vs. Numpy arrays. In scientific computing scene, everyone talks about TensorFlow.\n",
    "\n",
    "TensorFlow is an open source software library for numerical computation. Unlike Numpy, TensorFlow presents computation using **data flow graphs**. The data flow graph consists of **nodes**, which represent **mathematical operations**, and **edges**, which represent the **multidimensional data arrays** (tensors) flowing between them.\n",
    "\n",
    "#### Why?\n",
    "The flexibility of data flow graphs allow TensorFlow graphs to be easily deployed one or more CPUs or GPUs in various different platforms, such as desktop, server, or mobile device.\n",
    "\n",
    "Thus, TensorFlow -- like Numpy, but in a bit different way -- brings **speed** and **convenience** for numerical/scientific computing in Python.\n",
    "\n",
    "\"Originally ... at Google ... for the purposes of conducting machine learning and deep neural networks research, but the system is general enough to be applicable in a wide variety of other domains as well.\""
   ]
  },
  {
   "cell_type": "code",
   "execution_count": null,
   "metadata": {},
   "outputs": [],
   "source": [
    "def table_sums_tf_graph(table_np, dtype=DEFAULT_DTYPE):\n",
    "    \"\"\"Generate tf data flow graph for table sums\n",
    "    \n",
    "    Parameters\n",
    "    ----------\n",
    "    table_np: table of type np.ndarray format\n",
    "    \n",
    "    Returns\n",
    "    ----------\n",
    "    ops: list of tensorflow operations (nodes in the graph)\n",
    "      that can be evaluated\n",
    "    feed_dict: dictionary of format { <tf.placeholder>: raw_values }\n",
    "      that can be passed to session.run when evaluating values\n",
    "    \"\"\"\n",
    "    table_tf = tf.constant(table_np, dtype=dtype)\n",
    "\n",
    "    row_sums_sym = tf.reduce_sum(table_tf, axis=1)\n",
    "    col_sums_sym = tf.reduce_sum(table_tf, axis=0)\n",
    "    total_sum_sym = tf.reduce_sum(table_tf)\n",
    "    \n",
    "    ops = (row_sums_sym, col_sums_sym, total_sum_sym)\n",
    "    \n",
    "    return ops"
   ]
  },
  {
   "cell_type": "code",
   "execution_count": null,
   "metadata": {},
   "outputs": [],
   "source": [
    "ops = table_sums_tf_graph(table_np)\n",
    "with tf.Session() as session:\n",
    "    session.run(tf.global_variables_initializer())\n",
    "    (row_sums_tf, col_sums_tf, total_sum_tf) = session.run(ops)\n",
    "\n",
    "assert(np.all(row_sums_tf == row_sums))\n",
    "assert(np.all(col_sums_tf == col_sums))\n",
    "assert(total_sum_tf == total_sum)\n",
    "\n",
    "print(\"row_sums: \", row_sums_tf)\n",
    "print(\"col_sums: \", col_sums_tf)\n",
    "print(\"total_sum: \", total_sum_tf)"
   ]
  },
  {
   "cell_type": "code",
   "execution_count": null,
   "metadata": {},
   "outputs": [],
   "source": [
    "timer_tf = TableTestTf(timeit_fn=table_sums_tf_graph)\n",
    "times_tf = timer_tf.repeat(verbose=True, table_sizes=table_sizes)\n",
    "results[\"tensorflow\"] = times_tf"
   ]
  },
  {
   "cell_type": "code",
   "execution_count": null,
   "metadata": {},
   "outputs": [],
   "source": [
    "results_without_python = {k:v for k, v in results.items() if k != 'python'}\n",
    "plot_with_legend([results, results_without_python], figure_idx=2, show=True)"
   ]
  },
  {
   "cell_type": "markdown",
   "metadata": {},
   "source": [
    "### Why is Numpy still faster?\n",
    "Because .."
   ]
  },
  {
   "cell_type": "code",
   "execution_count": null,
   "metadata": {},
   "outputs": [],
   "source": [
    "data = np.random.uniform(-1, 1, size=(500, 500)).astype(DEFAULT_DTYPE)\n",
    "print(data.mean(), data.std())\n",
    "\n",
    "def matrix_power_np(data, power=100):\n",
    "    new_data = data\n",
    "    for _ in range(power):\n",
    "        new_data = np.matmul(new_data, new_data)\n",
    "    return new_data\n",
    "\n",
    "def matrix_power_tf(data, power=100):\n",
    "    tf_data = tf.constant(data)\n",
    "    def condition(i, new_data):\n",
    "        return i < power\n",
    "    \n",
    "    def body(i, new_data):\n",
    "        new_data = tf.matmul(new_data, new_data)\n",
    "        return (i+1), new_data\n",
    "    \n",
    "    _, new_data = tf.while_loop(condition, body, [tf.constant(0), tf_data])\n",
    "    \n",
    "    return new_data\n",
    "\n",
    "power = 100\n",
    "pow_result_np = matrix_power_np(data, 10)\n",
    "with tf.Session() as sess:\n",
    "    pow_result_tf = sess.run(matrix_power_tf(data, 10))\n",
    "\n",
    "np.testing.assert_allclose(pow_result_np, pow_result_tf)"
   ]
  },
  {
   "cell_type": "code",
   "execution_count": null,
   "metadata": {},
   "outputs": [],
   "source": [
    "print(data[0][0])\n",
    "print(pow_result_np[0,0], pow_result_tf[0,0])"
   ]
  },
  {
   "cell_type": "code",
   "execution_count": null,
   "metadata": {},
   "outputs": [],
   "source": [
    "data_sizes = [2**x for x in range(6, 11)] # 64, ..., 16384\n",
    "\n",
    "mat_pow_timer_np = MatPowTestNp(timeit_fn=matrix_power_np)\n",
    "mat_pow_times_np = mat_pow_timer_np.repeat(verbose=True,\n",
    "                                 data_sizes=data_sizes)\n",
    "\n",
    "mat_pow_timer_tf = MatPowTestTf(timeit_fn=matrix_power_tf)\n",
    "mat_pow_times_tf = mat_pow_timer_tf.repeat(verbose=True,\n",
    "                                 data_sizes=data_sizes)\n"
   ]
  },
  {
   "cell_type": "code",
   "execution_count": null,
   "metadata": {},
   "outputs": [],
   "source": [
    "mat_pow_results = {\n",
    "    \"numpy\": mat_pow_times_np,\n",
    "    \"tensorflow\": mat_pow_times_tf\n",
    "}"
   ]
  },
  {
   "cell_type": "code",
   "execution_count": null,
   "metadata": {},
   "outputs": [],
   "source": [
    "plot_with_legend([mat_pow_results], figure_idx=2, show=True)"
   ]
  }
 ],
 "metadata": {
  "kernelspec": {
   "display_name": "Python 3",
   "language": "python",
   "name": "python3"
  },
  "language_info": {
   "codemirror_mode": {
    "name": "ipython",
    "version": 3
   },
   "file_extension": ".py",
   "mimetype": "text/x-python",
   "name": "python",
   "nbconvert_exporter": "python",
   "pygments_lexer": "ipython3",
   "version": "3.5.2"
  }
 },
 "nbformat": 4,
 "nbformat_minor": 2
}
